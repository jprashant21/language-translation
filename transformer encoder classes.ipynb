{
  "nbformat": 4,
  "nbformat_minor": 0,
  "metadata": {
    "colab": {
      "name": "Untitled",
      "provenance": [],
      "authorship_tag": "ABX9TyPEaK7GaweEV+Y2ai9RMOFS",
      "include_colab_link": true
    },
    "kernelspec": {
      "name": "python3",
      "display_name": "Python 3"
    },
    "language_info": {
      "name": "python"
    }
  },
  "cells": [
    {
      "cell_type": "markdown",
      "metadata": {
        "id": "view-in-github",
        "colab_type": "text"
      },
      "source": [
        "<a href=\"https://colab.research.google.com/github/jprashant21/language-translation/blob/main/transformer%20encoder%20classes.ipynb\" target=\"_parent\"><img src=\"https://colab.research.google.com/assets/colab-badge.svg\" alt=\"Open In Colab\"/></a>"
      ]
    },
    {
      "cell_type": "code",
      "metadata": {
        "id": "iZEK5oc3w3Iy"
      },
      "source": [
        ""
      ],
      "execution_count": null,
      "outputs": []
    },
    {
      "cell_type": "code",
      "metadata": {
        "id": "Jcc15f_qw2_h"
      },
      "source": [
        ""
      ],
      "execution_count": null,
      "outputs": []
    },
    {
      "cell_type": "code",
      "metadata": {
        "id": "8khshKD3wv6G"
      },
      "source": [
        "## self attention dot product\n",
        "# dimension query = [1,5,768]\n",
        "\n",
        "def self_attn_dot_product(query,key,value):\n",
        "\n",
        "  emb_dim = query.size(-1)\n",
        "  score = torch.bmm(query,key.transpose(1,2)) / sqrt(emb_dim)\n",
        "  weights = F.softmax(score, dim=-1)\n",
        "  return torch.bmm(weights,value)\n"
      ],
      "execution_count": null,
      "outputs": []
    },
    {
      "cell_type": "code",
      "metadata": {
        "id": "86V4V_-Ow4q7"
      },
      "source": [
        "## attention head\n",
        "\n",
        "class AttentionHead(nn.Module):\n",
        "\n",
        "  def __init__(self,emd_dim,head_dim):\n",
        "    super().__init__()\n",
        "    self.q = nn.Linear(emb_dim,head_dim)\n",
        "    self.k = nn.Linear(emb_dim,head_dim)\n",
        "    self.v = nn.Linear(emb_dim,head_dim)\n",
        "\n",
        "  def forward(self,hidden_state):\n",
        "    return self_attn_dot_product(self.q(hidden_state), \n",
        "                                 self.k(hidden_state),\n",
        "                                 self.v(hidden_state))\n"
      ],
      "execution_count": null,
      "outputs": []
    },
    {
      "cell_type": "code",
      "metadata": {
        "id": "c3aEaNPyw4no"
      },
      "source": [
        "## multi headed attention\n",
        "\n",
        "class MultiHeadedAttention(nn.Module):\n",
        "\n",
        "  def __init__(self,config):\n",
        "    super().__init__()\n",
        "    self.emb_dim = config.emb_dim\n",
        "    self.num_heads = config.num_heads\n",
        "    self.head_dim = self.emb_dim // self.num_heads\n",
        "\n",
        "    self.heads = nn.ModuleList(\n",
        "        [AttentionHead(self.emb_dim,self.head_dim) for _ in self.num_heads]\n",
        "    )\n",
        "    self.output_linear = nn.Linear(self.emb_dim,self.emb_dim)\n",
        "\n",
        "  def forward(hidden_state):\n",
        "    x = torch.cat( [h(hidden_state) for h in self.heads], dim=-1)\n",
        "    x = self.output_linear(x)\n",
        "    return x"
      ],
      "execution_count": null,
      "outputs": []
    },
    {
      "cell_type": "code",
      "metadata": {
        "id": "vy9pLDph3Q7H"
      },
      "source": [
        "## feed forward\n",
        "\n",
        "class FeedForward(nn.Module):\n",
        "\n",
        "  def __init__(self,config):\n",
        "    super().__init__()\n",
        "    self.hidden_size = config.hidden_size\n",
        "    self.intermediate_size = config.intermediate_size\n",
        "\n",
        "    self.l1 = nn.Linear(self.hidden_size,config.intermediate_size)\n",
        "    self.l2 = nn.Linear(config.intermediate_size,self.hidden_size)\n",
        "    self.gleu = nn.GLEU()\n",
        "    self.dropout = nn.Dropout(config.hidden_dropout_prob)\n",
        "\n",
        "  def forward(x):\n",
        "    x = self.l1(x)\n",
        "    x = self.gleu(x)\n",
        "    x = self.l2(x)\n",
        "    x = self.dropout(x)\n",
        "    return x\n",
        "\n"
      ],
      "execution_count": null,
      "outputs": []
    },
    {
      "cell_type": "code",
      "metadata": {
        "id": "8l09bX6Kw4kV"
      },
      "source": [
        "## layer norm and skip connection\n",
        "\n",
        "class TransformerEncoderLayer(nn.Module):\n",
        "    def __init__(self, config):\n",
        "        super().__init__()\n",
        "        self.layer_norm_1 = nn.LayerNorm(config.hidden_size)\n",
        "        self.layer_norm_2 = nn.LayerNorm(config.hidden_size)\n",
        "        self.attention = MultiHeadAttention(config)\n",
        "        self.feed_forward = FeedForward(config)\n",
        "\n",
        "    def forward(x):\n",
        "      x = self.layer_norm_1(x)\n",
        "      x = x + self.attention(x)\n",
        "      x = self.layer_norm_2(x)\n",
        "      x = x + self.feed_forward(x)\n",
        "      return x\n"
      ],
      "execution_count": null,
      "outputs": []
    },
    {
      "cell_type": "code",
      "metadata": {
        "id": "e6DkRZFJw4hT"
      },
      "source": [
        "## positional embedding\n",
        "\n",
        "class PostionalEmbeddings(nn.Module):\n",
        "\n",
        "  def __init__(self,config):\n",
        "    super().__init__()\n",
        "    self.token_embedding = nn.Embedding(config.vocab_size, config.hidden_size)\n",
        "    self.position_embedding = nn.Embedding(config.max_position_size, config.hidden_size)\n",
        "    self.layer_norm = nn.LayerNorm(config.hidden_size)\n",
        "    self.dropout = nn.DropOut(config.hidden_dropout_prob)\n",
        "\n",
        "  def forward(self,input_ids):\n",
        "\n",
        "    seq_len = input_ids.size(1)\n",
        "    position_ids = torch.arange(seq_len, dtype=torch.long).unsqueeze(0)\n",
        "    token_embeddings = self.token_embedding(input_ids)\n",
        "    position_embeddings = self.position_embeddings(position_ids)\n",
        "\n",
        "    embeddings = token_embeddings + position_embeddings\n",
        "    x = self.layer_norm(embeddings)\n",
        "    x = self.dropout(x)\n",
        "    return x\n",
        "\n"
      ],
      "execution_count": null,
      "outputs": []
    },
    {
      "cell_type": "code",
      "metadata": {
        "id": "5k871cLRA0xR"
      },
      "source": [
        "class TransformerEncoder(nn.Module):\n",
        "    def __init__(self, config):\n",
        "        super().__init__()\n",
        "        self.embeddings = PostionalEmbeddings(config)\n",
        "        self.encoderstack = nn.ModuleList([TransformerEncoderLayer(config)\n",
        "                                     for _ in range(config.num_hidden_layers)])\n",
        "\n",
        "    def forward(self, x):\n",
        "        x = self.embeddings(x)\n",
        "        for layer in self.encoderstack:\n",
        "            x = layer(x)\n",
        "        return x\n",
        "\n",
        "encoder = TransformerEncoder(config)\n",
        "encoder(inputs.input_ids).size()\n"
      ],
      "execution_count": null,
      "outputs": []
    }
  ]
}